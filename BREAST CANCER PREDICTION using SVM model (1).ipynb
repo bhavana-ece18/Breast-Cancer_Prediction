{
 "cells": [
  {
   "cell_type": "markdown",
   "id": "c02dd299",
   "metadata": {},
   "source": [
    "# import libraries"
   ]
  },
  {
   "cell_type": "code",
   "execution_count": 1,
   "id": "b4ebcb93",
   "metadata": {
    "tags": []
   },
   "outputs": [],
   "source": [
    "# import all necessary libraries\n",
    "\n",
    "import numpy as np\n",
    "import pandas as pd\n",
    "\n",
    "import matplotlib.pyplot as plt\n",
    "import seaborn as sns\n",
    "\n",
    "from sklearn.model_selection import train_test_split\n",
    "from sklearn.model_selection import KFold\n",
    "from sklearn.model_selection import cross_val_score\n",
    "from sklearn.model_selection import GridSearchCV\n",
    "\n",
    "from sklearn.metrics import accuracy_score\n",
    "from sklearn.metrics import confusion_matrix\n",
    "from sklearn.metrics import classification_report\n",
    "\n",
    "from sklearn.preprocessing import MinMaxScaler\n",
    "from sklearn.preprocessing import StandardScaler\n",
    "\n",
    "from sklearn.tree import DecisionTreeClassifier\n",
    "from sklearn.neighbors import KNeighborsClassifier\n",
    "from sklearn.svm import SVC\n",
    "from sklearn.naive_bayes import GaussianNB\n",
    "\n",
    "from warnings import filterwarnings\n",
    "filterwarnings('ignore')\n",
    "\n",
    "from sklearn.pipeline import Pipeline \n",
    "import time"
   ]
  },
  {
   "cell_type": "markdown",
   "id": "0cec6b7f",
   "metadata": {},
   "source": [
    "# import dataset"
   ]
  },
  {
   "cell_type": "code",
   "execution_count": 2,
   "id": "c597545c",
   "metadata": {
    "tags": []
   },
   "outputs": [
    {
     "data": {
      "text/html": [
       "<div>\n",
       "<style scoped>\n",
       "    .dataframe tbody tr th:only-of-type {\n",
       "        vertical-align: middle;\n",
       "    }\n",
       "\n",
       "    .dataframe tbody tr th {\n",
       "        vertical-align: top;\n",
       "    }\n",
       "\n",
       "    .dataframe thead th {\n",
       "        text-align: right;\n",
       "    }\n",
       "</style>\n",
       "<table border=\"1\" class=\"dataframe\">\n",
       "  <thead>\n",
       "    <tr style=\"text-align: right;\">\n",
       "      <th></th>\n",
       "      <th>id</th>\n",
       "      <th>diagnosis</th>\n",
       "      <th>radius_mean</th>\n",
       "      <th>texture_mean</th>\n",
       "      <th>perimeter_mean</th>\n",
       "      <th>area_mean</th>\n",
       "      <th>smoothness_mean</th>\n",
       "      <th>compactness_mean</th>\n",
       "      <th>concavity_mean</th>\n",
       "      <th>concave points_mean</th>\n",
       "      <th>...</th>\n",
       "      <th>texture_worst</th>\n",
       "      <th>perimeter_worst</th>\n",
       "      <th>area_worst</th>\n",
       "      <th>smoothness_worst</th>\n",
       "      <th>compactness_worst</th>\n",
       "      <th>concavity_worst</th>\n",
       "      <th>concave points_worst</th>\n",
       "      <th>symmetry_worst</th>\n",
       "      <th>fractal_dimension_worst</th>\n",
       "      <th>Unnamed: 32</th>\n",
       "    </tr>\n",
       "  </thead>\n",
       "  <tbody>\n",
       "    <tr>\n",
       "      <th>0</th>\n",
       "      <td>842302</td>\n",
       "      <td>M</td>\n",
       "      <td>17.99</td>\n",
       "      <td>10.38</td>\n",
       "      <td>122.80</td>\n",
       "      <td>1001.0</td>\n",
       "      <td>0.11840</td>\n",
       "      <td>0.27760</td>\n",
       "      <td>0.3001</td>\n",
       "      <td>0.14710</td>\n",
       "      <td>...</td>\n",
       "      <td>17.33</td>\n",
       "      <td>184.60</td>\n",
       "      <td>2019.0</td>\n",
       "      <td>0.1622</td>\n",
       "      <td>0.6656</td>\n",
       "      <td>0.7119</td>\n",
       "      <td>0.2654</td>\n",
       "      <td>0.4601</td>\n",
       "      <td>0.11890</td>\n",
       "      <td>NaN</td>\n",
       "    </tr>\n",
       "    <tr>\n",
       "      <th>1</th>\n",
       "      <td>842517</td>\n",
       "      <td>M</td>\n",
       "      <td>20.57</td>\n",
       "      <td>17.77</td>\n",
       "      <td>132.90</td>\n",
       "      <td>1326.0</td>\n",
       "      <td>0.08474</td>\n",
       "      <td>0.07864</td>\n",
       "      <td>0.0869</td>\n",
       "      <td>0.07017</td>\n",
       "      <td>...</td>\n",
       "      <td>23.41</td>\n",
       "      <td>158.80</td>\n",
       "      <td>1956.0</td>\n",
       "      <td>0.1238</td>\n",
       "      <td>0.1866</td>\n",
       "      <td>0.2416</td>\n",
       "      <td>0.1860</td>\n",
       "      <td>0.2750</td>\n",
       "      <td>0.08902</td>\n",
       "      <td>NaN</td>\n",
       "    </tr>\n",
       "    <tr>\n",
       "      <th>2</th>\n",
       "      <td>84300903</td>\n",
       "      <td>M</td>\n",
       "      <td>19.69</td>\n",
       "      <td>21.25</td>\n",
       "      <td>130.00</td>\n",
       "      <td>1203.0</td>\n",
       "      <td>0.10960</td>\n",
       "      <td>0.15990</td>\n",
       "      <td>0.1974</td>\n",
       "      <td>0.12790</td>\n",
       "      <td>...</td>\n",
       "      <td>25.53</td>\n",
       "      <td>152.50</td>\n",
       "      <td>1709.0</td>\n",
       "      <td>0.1444</td>\n",
       "      <td>0.4245</td>\n",
       "      <td>0.4504</td>\n",
       "      <td>0.2430</td>\n",
       "      <td>0.3613</td>\n",
       "      <td>0.08758</td>\n",
       "      <td>NaN</td>\n",
       "    </tr>\n",
       "    <tr>\n",
       "      <th>3</th>\n",
       "      <td>84348301</td>\n",
       "      <td>M</td>\n",
       "      <td>11.42</td>\n",
       "      <td>20.38</td>\n",
       "      <td>77.58</td>\n",
       "      <td>386.1</td>\n",
       "      <td>0.14250</td>\n",
       "      <td>0.28390</td>\n",
       "      <td>0.2414</td>\n",
       "      <td>0.10520</td>\n",
       "      <td>...</td>\n",
       "      <td>26.50</td>\n",
       "      <td>98.87</td>\n",
       "      <td>567.7</td>\n",
       "      <td>0.2098</td>\n",
       "      <td>0.8663</td>\n",
       "      <td>0.6869</td>\n",
       "      <td>0.2575</td>\n",
       "      <td>0.6638</td>\n",
       "      <td>0.17300</td>\n",
       "      <td>NaN</td>\n",
       "    </tr>\n",
       "    <tr>\n",
       "      <th>4</th>\n",
       "      <td>84358402</td>\n",
       "      <td>M</td>\n",
       "      <td>20.29</td>\n",
       "      <td>14.34</td>\n",
       "      <td>135.10</td>\n",
       "      <td>1297.0</td>\n",
       "      <td>0.10030</td>\n",
       "      <td>0.13280</td>\n",
       "      <td>0.1980</td>\n",
       "      <td>0.10430</td>\n",
       "      <td>...</td>\n",
       "      <td>16.67</td>\n",
       "      <td>152.20</td>\n",
       "      <td>1575.0</td>\n",
       "      <td>0.1374</td>\n",
       "      <td>0.2050</td>\n",
       "      <td>0.4000</td>\n",
       "      <td>0.1625</td>\n",
       "      <td>0.2364</td>\n",
       "      <td>0.07678</td>\n",
       "      <td>NaN</td>\n",
       "    </tr>\n",
       "  </tbody>\n",
       "</table>\n",
       "<p>5 rows × 33 columns</p>\n",
       "</div>"
      ],
      "text/plain": [
       "         id diagnosis  radius_mean  texture_mean  perimeter_mean  area_mean  \\\n",
       "0    842302         M        17.99         10.38          122.80     1001.0   \n",
       "1    842517         M        20.57         17.77          132.90     1326.0   \n",
       "2  84300903         M        19.69         21.25          130.00     1203.0   \n",
       "3  84348301         M        11.42         20.38           77.58      386.1   \n",
       "4  84358402         M        20.29         14.34          135.10     1297.0   \n",
       "\n",
       "   smoothness_mean  compactness_mean  concavity_mean  concave points_mean  \\\n",
       "0          0.11840           0.27760          0.3001              0.14710   \n",
       "1          0.08474           0.07864          0.0869              0.07017   \n",
       "2          0.10960           0.15990          0.1974              0.12790   \n",
       "3          0.14250           0.28390          0.2414              0.10520   \n",
       "4          0.10030           0.13280          0.1980              0.10430   \n",
       "\n",
       "   ...  texture_worst  perimeter_worst  area_worst  smoothness_worst  \\\n",
       "0  ...          17.33           184.60      2019.0            0.1622   \n",
       "1  ...          23.41           158.80      1956.0            0.1238   \n",
       "2  ...          25.53           152.50      1709.0            0.1444   \n",
       "3  ...          26.50            98.87       567.7            0.2098   \n",
       "4  ...          16.67           152.20      1575.0            0.1374   \n",
       "\n",
       "   compactness_worst  concavity_worst  concave points_worst  symmetry_worst  \\\n",
       "0             0.6656           0.7119                0.2654          0.4601   \n",
       "1             0.1866           0.2416                0.1860          0.2750   \n",
       "2             0.4245           0.4504                0.2430          0.3613   \n",
       "3             0.8663           0.6869                0.2575          0.6638   \n",
       "4             0.2050           0.4000                0.1625          0.2364   \n",
       "\n",
       "   fractal_dimension_worst  Unnamed: 32  \n",
       "0                  0.11890          NaN  \n",
       "1                  0.08902          NaN  \n",
       "2                  0.08758          NaN  \n",
       "3                  0.17300          NaN  \n",
       "4                  0.07678          NaN  \n",
       "\n",
       "[5 rows x 33 columns]"
      ]
     },
     "execution_count": 2,
     "metadata": {},
     "output_type": "execute_result"
    }
   ],
   "source": [
    "# import the dataset\n",
    "\n",
    "df = pd.read_csv('cancer.csv')\n",
    "df.head()"
   ]
  },
  {
   "cell_type": "markdown",
   "id": "3446c05b",
   "metadata": {},
   "source": [
    "# EDA"
   ]
  },
  {
   "cell_type": "code",
   "execution_count": 3,
   "id": "e542faa5",
   "metadata": {
    "tags": []
   },
   "outputs": [
    {
     "data": {
      "text/plain": [
       "(569, 33)"
      ]
     },
     "execution_count": 3,
     "metadata": {},
     "output_type": "execute_result"
    }
   ],
   "source": [
    "df.shape"
   ]
  },
  {
   "cell_type": "code",
   "execution_count": 4,
   "id": "b609d7e0",
   "metadata": {
    "tags": []
   },
   "outputs": [
    {
     "data": {
      "text/plain": [
       "Index(['id', 'diagnosis', 'radius_mean', 'texture_mean', 'perimeter_mean',\n",
       "       'area_mean', 'smoothness_mean', 'compactness_mean', 'concavity_mean',\n",
       "       'concave points_mean', 'symmetry_mean', 'fractal_dimension_mean',\n",
       "       'radius_se', 'texture_se', 'perimeter_se', 'area_se', 'smoothness_se',\n",
       "       'compactness_se', 'concavity_se', 'concave points_se', 'symmetry_se',\n",
       "       'fractal_dimension_se', 'radius_worst', 'texture_worst',\n",
       "       'perimeter_worst', 'area_worst', 'smoothness_worst',\n",
       "       'compactness_worst', 'concavity_worst', 'concave points_worst',\n",
       "       'symmetry_worst', 'fractal_dimension_worst', 'Unnamed: 32'],\n",
       "      dtype='object')"
      ]
     },
     "execution_count": 4,
     "metadata": {},
     "output_type": "execute_result"
    }
   ],
   "source": [
    "df.columns"
   ]
  },
  {
   "cell_type": "code",
   "execution_count": 5,
   "id": "6bdaf378",
   "metadata": {
    "tags": []
   },
   "outputs": [
    {
     "data": {
      "text/html": [
       "<div>\n",
       "<style scoped>\n",
       "    .dataframe tbody tr th:only-of-type {\n",
       "        vertical-align: middle;\n",
       "    }\n",
       "\n",
       "    .dataframe tbody tr th {\n",
       "        vertical-align: top;\n",
       "    }\n",
       "\n",
       "    .dataframe thead th {\n",
       "        text-align: right;\n",
       "    }\n",
       "</style>\n",
       "<table border=\"1\" class=\"dataframe\">\n",
       "  <thead>\n",
       "    <tr style=\"text-align: right;\">\n",
       "      <th></th>\n",
       "      <th>id</th>\n",
       "      <th>radius_mean</th>\n",
       "      <th>texture_mean</th>\n",
       "      <th>perimeter_mean</th>\n",
       "      <th>area_mean</th>\n",
       "      <th>smoothness_mean</th>\n",
       "      <th>compactness_mean</th>\n",
       "      <th>concavity_mean</th>\n",
       "      <th>concave points_mean</th>\n",
       "      <th>symmetry_mean</th>\n",
       "      <th>...</th>\n",
       "      <th>texture_worst</th>\n",
       "      <th>perimeter_worst</th>\n",
       "      <th>area_worst</th>\n",
       "      <th>smoothness_worst</th>\n",
       "      <th>compactness_worst</th>\n",
       "      <th>concavity_worst</th>\n",
       "      <th>concave points_worst</th>\n",
       "      <th>symmetry_worst</th>\n",
       "      <th>fractal_dimension_worst</th>\n",
       "      <th>Unnamed: 32</th>\n",
       "    </tr>\n",
       "  </thead>\n",
       "  <tbody>\n",
       "    <tr>\n",
       "      <th>count</th>\n",
       "      <td>5.690000e+02</td>\n",
       "      <td>569.000000</td>\n",
       "      <td>569.000000</td>\n",
       "      <td>569.000000</td>\n",
       "      <td>569.000000</td>\n",
       "      <td>569.000000</td>\n",
       "      <td>569.000000</td>\n",
       "      <td>569.000000</td>\n",
       "      <td>569.000000</td>\n",
       "      <td>569.000000</td>\n",
       "      <td>...</td>\n",
       "      <td>569.000000</td>\n",
       "      <td>569.000000</td>\n",
       "      <td>569.000000</td>\n",
       "      <td>569.000000</td>\n",
       "      <td>569.000000</td>\n",
       "      <td>569.000000</td>\n",
       "      <td>569.000000</td>\n",
       "      <td>569.000000</td>\n",
       "      <td>569.000000</td>\n",
       "      <td>0.0</td>\n",
       "    </tr>\n",
       "    <tr>\n",
       "      <th>mean</th>\n",
       "      <td>3.037183e+07</td>\n",
       "      <td>14.127292</td>\n",
       "      <td>19.289649</td>\n",
       "      <td>91.969033</td>\n",
       "      <td>654.889104</td>\n",
       "      <td>0.096360</td>\n",
       "      <td>0.104341</td>\n",
       "      <td>0.088799</td>\n",
       "      <td>0.048919</td>\n",
       "      <td>0.181162</td>\n",
       "      <td>...</td>\n",
       "      <td>25.677223</td>\n",
       "      <td>107.261213</td>\n",
       "      <td>880.583128</td>\n",
       "      <td>0.132369</td>\n",
       "      <td>0.254265</td>\n",
       "      <td>0.272188</td>\n",
       "      <td>0.114606</td>\n",
       "      <td>0.290076</td>\n",
       "      <td>0.083946</td>\n",
       "      <td>NaN</td>\n",
       "    </tr>\n",
       "    <tr>\n",
       "      <th>std</th>\n",
       "      <td>1.250206e+08</td>\n",
       "      <td>3.524049</td>\n",
       "      <td>4.301036</td>\n",
       "      <td>24.298981</td>\n",
       "      <td>351.914129</td>\n",
       "      <td>0.014064</td>\n",
       "      <td>0.052813</td>\n",
       "      <td>0.079720</td>\n",
       "      <td>0.038803</td>\n",
       "      <td>0.027414</td>\n",
       "      <td>...</td>\n",
       "      <td>6.146258</td>\n",
       "      <td>33.602542</td>\n",
       "      <td>569.356993</td>\n",
       "      <td>0.022832</td>\n",
       "      <td>0.157336</td>\n",
       "      <td>0.208624</td>\n",
       "      <td>0.065732</td>\n",
       "      <td>0.061867</td>\n",
       "      <td>0.018061</td>\n",
       "      <td>NaN</td>\n",
       "    </tr>\n",
       "    <tr>\n",
       "      <th>min</th>\n",
       "      <td>8.670000e+03</td>\n",
       "      <td>6.981000</td>\n",
       "      <td>9.710000</td>\n",
       "      <td>43.790000</td>\n",
       "      <td>143.500000</td>\n",
       "      <td>0.052630</td>\n",
       "      <td>0.019380</td>\n",
       "      <td>0.000000</td>\n",
       "      <td>0.000000</td>\n",
       "      <td>0.106000</td>\n",
       "      <td>...</td>\n",
       "      <td>12.020000</td>\n",
       "      <td>50.410000</td>\n",
       "      <td>185.200000</td>\n",
       "      <td>0.071170</td>\n",
       "      <td>0.027290</td>\n",
       "      <td>0.000000</td>\n",
       "      <td>0.000000</td>\n",
       "      <td>0.156500</td>\n",
       "      <td>0.055040</td>\n",
       "      <td>NaN</td>\n",
       "    </tr>\n",
       "    <tr>\n",
       "      <th>25%</th>\n",
       "      <td>8.692180e+05</td>\n",
       "      <td>11.700000</td>\n",
       "      <td>16.170000</td>\n",
       "      <td>75.170000</td>\n",
       "      <td>420.300000</td>\n",
       "      <td>0.086370</td>\n",
       "      <td>0.064920</td>\n",
       "      <td>0.029560</td>\n",
       "      <td>0.020310</td>\n",
       "      <td>0.161900</td>\n",
       "      <td>...</td>\n",
       "      <td>21.080000</td>\n",
       "      <td>84.110000</td>\n",
       "      <td>515.300000</td>\n",
       "      <td>0.116600</td>\n",
       "      <td>0.147200</td>\n",
       "      <td>0.114500</td>\n",
       "      <td>0.064930</td>\n",
       "      <td>0.250400</td>\n",
       "      <td>0.071460</td>\n",
       "      <td>NaN</td>\n",
       "    </tr>\n",
       "    <tr>\n",
       "      <th>50%</th>\n",
       "      <td>9.060240e+05</td>\n",
       "      <td>13.370000</td>\n",
       "      <td>18.840000</td>\n",
       "      <td>86.240000</td>\n",
       "      <td>551.100000</td>\n",
       "      <td>0.095870</td>\n",
       "      <td>0.092630</td>\n",
       "      <td>0.061540</td>\n",
       "      <td>0.033500</td>\n",
       "      <td>0.179200</td>\n",
       "      <td>...</td>\n",
       "      <td>25.410000</td>\n",
       "      <td>97.660000</td>\n",
       "      <td>686.500000</td>\n",
       "      <td>0.131300</td>\n",
       "      <td>0.211900</td>\n",
       "      <td>0.226700</td>\n",
       "      <td>0.099930</td>\n",
       "      <td>0.282200</td>\n",
       "      <td>0.080040</td>\n",
       "      <td>NaN</td>\n",
       "    </tr>\n",
       "    <tr>\n",
       "      <th>75%</th>\n",
       "      <td>8.813129e+06</td>\n",
       "      <td>15.780000</td>\n",
       "      <td>21.800000</td>\n",
       "      <td>104.100000</td>\n",
       "      <td>782.700000</td>\n",
       "      <td>0.105300</td>\n",
       "      <td>0.130400</td>\n",
       "      <td>0.130700</td>\n",
       "      <td>0.074000</td>\n",
       "      <td>0.195700</td>\n",
       "      <td>...</td>\n",
       "      <td>29.720000</td>\n",
       "      <td>125.400000</td>\n",
       "      <td>1084.000000</td>\n",
       "      <td>0.146000</td>\n",
       "      <td>0.339100</td>\n",
       "      <td>0.382900</td>\n",
       "      <td>0.161400</td>\n",
       "      <td>0.317900</td>\n",
       "      <td>0.092080</td>\n",
       "      <td>NaN</td>\n",
       "    </tr>\n",
       "    <tr>\n",
       "      <th>max</th>\n",
       "      <td>9.113205e+08</td>\n",
       "      <td>28.110000</td>\n",
       "      <td>39.280000</td>\n",
       "      <td>188.500000</td>\n",
       "      <td>2501.000000</td>\n",
       "      <td>0.163400</td>\n",
       "      <td>0.345400</td>\n",
       "      <td>0.426800</td>\n",
       "      <td>0.201200</td>\n",
       "      <td>0.304000</td>\n",
       "      <td>...</td>\n",
       "      <td>49.540000</td>\n",
       "      <td>251.200000</td>\n",
       "      <td>4254.000000</td>\n",
       "      <td>0.222600</td>\n",
       "      <td>1.058000</td>\n",
       "      <td>1.252000</td>\n",
       "      <td>0.291000</td>\n",
       "      <td>0.663800</td>\n",
       "      <td>0.207500</td>\n",
       "      <td>NaN</td>\n",
       "    </tr>\n",
       "  </tbody>\n",
       "</table>\n",
       "<p>8 rows × 32 columns</p>\n",
       "</div>"
      ],
      "text/plain": [
       "                 id  radius_mean  texture_mean  perimeter_mean    area_mean  \\\n",
       "count  5.690000e+02   569.000000    569.000000      569.000000   569.000000   \n",
       "mean   3.037183e+07    14.127292     19.289649       91.969033   654.889104   \n",
       "std    1.250206e+08     3.524049      4.301036       24.298981   351.914129   \n",
       "min    8.670000e+03     6.981000      9.710000       43.790000   143.500000   \n",
       "25%    8.692180e+05    11.700000     16.170000       75.170000   420.300000   \n",
       "50%    9.060240e+05    13.370000     18.840000       86.240000   551.100000   \n",
       "75%    8.813129e+06    15.780000     21.800000      104.100000   782.700000   \n",
       "max    9.113205e+08    28.110000     39.280000      188.500000  2501.000000   \n",
       "\n",
       "       smoothness_mean  compactness_mean  concavity_mean  concave points_mean  \\\n",
       "count       569.000000        569.000000      569.000000           569.000000   \n",
       "mean          0.096360          0.104341        0.088799             0.048919   \n",
       "std           0.014064          0.052813        0.079720             0.038803   \n",
       "min           0.052630          0.019380        0.000000             0.000000   \n",
       "25%           0.086370          0.064920        0.029560             0.020310   \n",
       "50%           0.095870          0.092630        0.061540             0.033500   \n",
       "75%           0.105300          0.130400        0.130700             0.074000   \n",
       "max           0.163400          0.345400        0.426800             0.201200   \n",
       "\n",
       "       symmetry_mean  ...  texture_worst  perimeter_worst   area_worst  \\\n",
       "count     569.000000  ...     569.000000       569.000000   569.000000   \n",
       "mean        0.181162  ...      25.677223       107.261213   880.583128   \n",
       "std         0.027414  ...       6.146258        33.602542   569.356993   \n",
       "min         0.106000  ...      12.020000        50.410000   185.200000   \n",
       "25%         0.161900  ...      21.080000        84.110000   515.300000   \n",
       "50%         0.179200  ...      25.410000        97.660000   686.500000   \n",
       "75%         0.195700  ...      29.720000       125.400000  1084.000000   \n",
       "max         0.304000  ...      49.540000       251.200000  4254.000000   \n",
       "\n",
       "       smoothness_worst  compactness_worst  concavity_worst  \\\n",
       "count        569.000000         569.000000       569.000000   \n",
       "mean           0.132369           0.254265         0.272188   \n",
       "std            0.022832           0.157336         0.208624   \n",
       "min            0.071170           0.027290         0.000000   \n",
       "25%            0.116600           0.147200         0.114500   \n",
       "50%            0.131300           0.211900         0.226700   \n",
       "75%            0.146000           0.339100         0.382900   \n",
       "max            0.222600           1.058000         1.252000   \n",
       "\n",
       "       concave points_worst  symmetry_worst  fractal_dimension_worst  \\\n",
       "count            569.000000      569.000000               569.000000   \n",
       "mean               0.114606        0.290076                 0.083946   \n",
       "std                0.065732        0.061867                 0.018061   \n",
       "min                0.000000        0.156500                 0.055040   \n",
       "25%                0.064930        0.250400                 0.071460   \n",
       "50%                0.099930        0.282200                 0.080040   \n",
       "75%                0.161400        0.317900                 0.092080   \n",
       "max                0.291000        0.663800                 0.207500   \n",
       "\n",
       "       Unnamed: 32  \n",
       "count          0.0  \n",
       "mean           NaN  \n",
       "std            NaN  \n",
       "min            NaN  \n",
       "25%            NaN  \n",
       "50%            NaN  \n",
       "75%            NaN  \n",
       "max            NaN  \n",
       "\n",
       "[8 rows x 32 columns]"
      ]
     },
     "execution_count": 5,
     "metadata": {},
     "output_type": "execute_result"
    }
   ],
   "source": [
    "df.describe()"
   ]
  },
  {
   "cell_type": "code",
   "execution_count": 6,
   "id": "80ac6edd",
   "metadata": {
    "tags": []
   },
   "outputs": [
    {
     "name": "stdout",
     "output_type": "stream",
     "text": [
      "<class 'pandas.core.frame.DataFrame'>\n",
      "RangeIndex: 569 entries, 0 to 568\n",
      "Data columns (total 33 columns):\n",
      " #   Column                   Non-Null Count  Dtype  \n",
      "---  ------                   --------------  -----  \n",
      " 0   id                       569 non-null    int64  \n",
      " 1   diagnosis                569 non-null    object \n",
      " 2   radius_mean              569 non-null    float64\n",
      " 3   texture_mean             569 non-null    float64\n",
      " 4   perimeter_mean           569 non-null    float64\n",
      " 5   area_mean                569 non-null    float64\n",
      " 6   smoothness_mean          569 non-null    float64\n",
      " 7   compactness_mean         569 non-null    float64\n",
      " 8   concavity_mean           569 non-null    float64\n",
      " 9   concave points_mean      569 non-null    float64\n",
      " 10  symmetry_mean            569 non-null    float64\n",
      " 11  fractal_dimension_mean   569 non-null    float64\n",
      " 12  radius_se                569 non-null    float64\n",
      " 13  texture_se               569 non-null    float64\n",
      " 14  perimeter_se             569 non-null    float64\n",
      " 15  area_se                  569 non-null    float64\n",
      " 16  smoothness_se            569 non-null    float64\n",
      " 17  compactness_se           569 non-null    float64\n",
      " 18  concavity_se             569 non-null    float64\n",
      " 19  concave points_se        569 non-null    float64\n",
      " 20  symmetry_se              569 non-null    float64\n",
      " 21  fractal_dimension_se     569 non-null    float64\n",
      " 22  radius_worst             569 non-null    float64\n",
      " 23  texture_worst            569 non-null    float64\n",
      " 24  perimeter_worst          569 non-null    float64\n",
      " 25  area_worst               569 non-null    float64\n",
      " 26  smoothness_worst         569 non-null    float64\n",
      " 27  compactness_worst        569 non-null    float64\n",
      " 28  concavity_worst          569 non-null    float64\n",
      " 29  concave points_worst     569 non-null    float64\n",
      " 30  symmetry_worst           569 non-null    float64\n",
      " 31  fractal_dimension_worst  569 non-null    float64\n",
      " 32  Unnamed: 32              0 non-null      float64\n",
      "dtypes: float64(31), int64(1), object(1)\n",
      "memory usage: 146.8+ KB\n"
     ]
    }
   ],
   "source": [
    "df.info()"
   ]
  },
  {
   "cell_type": "markdown",
   "id": "820d9d29",
   "metadata": {},
   "source": [
    "# Data Cleaning"
   ]
  },
  {
   "cell_type": "code",
   "execution_count": 7,
   "id": "0e3ad3b6",
   "metadata": {
    "tags": []
   },
   "outputs": [],
   "source": [
    "df1 = df.copy(deep = True)"
   ]
  },
  {
   "cell_type": "code",
   "execution_count": 8,
   "id": "9a2887e0",
   "metadata": {
    "tags": []
   },
   "outputs": [
    {
     "data": {
      "text/plain": [
       "0"
      ]
     },
     "execution_count": 8,
     "metadata": {},
     "output_type": "execute_result"
    }
   ],
   "source": [
    "df1['id'].duplicated().sum()"
   ]
  },
  {
   "cell_type": "code",
   "execution_count": 9,
   "id": "d1ed866f",
   "metadata": {
    "tags": []
   },
   "outputs": [
    {
     "data": {
      "text/plain": [
       "B    357\n",
       "M    212\n",
       "Name: diagnosis, dtype: int64"
      ]
     },
     "execution_count": 9,
     "metadata": {},
     "output_type": "execute_result"
    }
   ],
   "source": [
    "df1['diagnosis'].value_counts()"
   ]
  },
  {
   "cell_type": "code",
   "execution_count": 10,
   "id": "c0ecca1a",
   "metadata": {
    "tags": []
   },
   "outputs": [
    {
     "data": {
      "text/plain": [
       "<AxesSubplot: ylabel='diagnosis'>"
      ]
     },
     "execution_count": 10,
     "metadata": {},
     "output_type": "execute_result"
    },
    {
     "data": {
      "image/png": "[encoded data removed]",
      "text/plain": [
       "<Figure size 640x480 with 1 Axes>"
      ]
     },
     "metadata": {},
     "output_type": "display_data"
    }
   ],
   "source": [
    "sns.barplot(x = df1['diagnosis'].value_counts().index, y = df1['diagnosis'].value_counts())"
   ]
  },
  {
   "cell_type": "markdown",
   "id": "5af36c02",
   "metadata": {},
   "source": [
    "No significant class difference"
   ]
  },
  {
   "cell_type": "code",
   "execution_count": 11,
   "id": "dd19b00d-089a-4446-9fc9-b686dde7bf6e",
   "metadata": {
    "tags": []
   },
   "outputs": [],
   "source": [
    "# Column 'Unnamed: 32' has no values in it\n",
    "# Drop the column\n",
    "\n",
    "# Column 'id' has no significance while running models\n",
    "# Drop the column"
   ]
  },
  {
   "cell_type": "code",
   "execution_count": 12,
   "id": "1fde6857",
   "metadata": {
    "tags": []
   },
   "outputs": [
    {
     "data": {
      "text/plain": [
       "(569, 31)"
      ]
     },
     "execution_count": 12,
     "metadata": {},
     "output_type": "execute_result"
    }
   ],
   "source": [
    "df2 = df1.drop(['id', 'Unnamed: 32'], axis = 1)\n",
    "df2.shape"
   ]
  },
  {
   "cell_type": "code",
   "execution_count": 13,
   "id": "6ffe247b",
   "metadata": {
    "tags": []
   },
   "outputs": [],
   "source": [
    "df2['diagnosis'] = df2['diagnosis'].replace({'B':0, 'M':1})"
   ]
  },
  {
   "cell_type": "code",
   "execution_count": 14,
   "id": "def6d082",
   "metadata": {
    "tags": []
   },
   "outputs": [
    {
     "data": {
      "text/plain": [
       "0    357\n",
       "1    212\n",
       "Name: diagnosis, dtype: int64"
      ]
     },
     "execution_count": 14,
     "metadata": {},
     "output_type": "execute_result"
    }
   ],
   "source": [
    "df2['diagnosis'].value_counts()"
   ]
  },
  {
   "cell_type": "code",
   "execution_count": 15,
   "id": "281b2677",
   "metadata": {
    "tags": []
   },
   "outputs": [
    {
     "data": {
      "image/png": "[encoded data removed]",
      "text/plain": [
       "<Figure size 640x480 with 35 Axes>"
      ]
     },
     "metadata": {},
     "output_type": "display_data"
    }
   ],
   "source": [
    "df2.plot(kind='density', subplots=True, layout=(5,7), sharex=False, legend=False, fontsize=0.6)\n",
    "plt.show()"
   ]
  },
  {
   "cell_type": "markdown",
   "id": "99781eea",
   "metadata": {},
   "source": [
    "# Data Preprocessing"
   ]
  },
  {
   "cell_type": "code",
   "execution_count": 16,
   "id": "e6546b96",
   "metadata": {
    "tags": []
   },
   "outputs": [],
   "source": [
    "df3 = df2.copy(deep = True)"
   ]
  },
  {
   "cell_type": "code",
   "execution_count": 17,
   "id": "e1b610c9",
   "metadata": {
    "tags": []
   },
   "outputs": [
    {
     "data": {
      "text/plain": [
       "(569, 31)"
      ]
     },
     "execution_count": 17,
     "metadata": {},
     "output_type": "execute_result"
    }
   ],
   "source": [
    "df3.shape"
   ]
  },
  {
   "cell_type": "code",
   "execution_count": 18,
   "id": "afc01e44",
   "metadata": {
    "tags": []
   },
   "outputs": [
    {
     "data": {
      "text/html": [
       "<div>\n",
       "<style scoped>\n",
       "    .dataframe tbody tr th:only-of-type {\n",
       "        vertical-align: middle;\n",
       "    }\n",
       "\n",
       "    .dataframe tbody tr th {\n",
       "        vertical-align: top;\n",
       "    }\n",
       "\n",
       "    .dataframe thead th {\n",
       "        text-align: right;\n",
       "    }\n",
       "</style>\n",
       "<table border=\"1\" class=\"dataframe\">\n",
       "  <thead>\n",
       "    <tr style=\"text-align: right;\">\n",
       "      <th></th>\n",
       "      <th>diagnosis</th>\n",
       "      <th>radius_mean</th>\n",
       "      <th>texture_mean</th>\n",
       "      <th>perimeter_mean</th>\n",
       "      <th>area_mean</th>\n",
       "      <th>smoothness_mean</th>\n",
       "      <th>compactness_mean</th>\n",
       "      <th>concavity_mean</th>\n",
       "      <th>concave points_mean</th>\n",
       "      <th>symmetry_mean</th>\n",
       "      <th>...</th>\n",
       "      <th>radius_worst</th>\n",
       "      <th>texture_worst</th>\n",
       "      <th>perimeter_worst</th>\n",
       "      <th>area_worst</th>\n",
       "      <th>smoothness_worst</th>\n",
       "      <th>compactness_worst</th>\n",
       "      <th>concavity_worst</th>\n",
       "      <th>concave points_worst</th>\n",
       "      <th>symmetry_worst</th>\n",
       "      <th>fractal_dimension_worst</th>\n",
       "    </tr>\n",
       "  </thead>\n",
       "  <tbody>\n",
       "    <tr>\n",
       "      <th>0</th>\n",
       "      <td>1</td>\n",
       "      <td>17.99</td>\n",
       "      <td>10.38</td>\n",
       "      <td>122.80</td>\n",
       "      <td>1001.0</td>\n",
       "      <td>0.11840</td>\n",
       "      <td>0.27760</td>\n",
       "      <td>0.3001</td>\n",
       "      <td>0.14710</td>\n",
       "      <td>0.2419</td>\n",
       "      <td>...</td>\n",
       "      <td>25.38</td>\n",
       "      <td>17.33</td>\n",
       "      <td>184.60</td>\n",
       "      <td>2019.0</td>\n",
       "      <td>0.1622</td>\n",
       "      <td>0.6656</td>\n",
       "      <td>0.7119</td>\n",
       "      <td>0.2654</td>\n",
       "      <td>0.4601</td>\n",
       "      <td>0.11890</td>\n",
       "    </tr>\n",
       "    <tr>\n",
       "      <th>1</th>\n",
       "      <td>1</td>\n",
       "      <td>20.57</td>\n",
       "      <td>17.77</td>\n",
       "      <td>132.90</td>\n",
       "      <td>1326.0</td>\n",
       "      <td>0.08474</td>\n",
       "      <td>0.07864</td>\n",
       "      <td>0.0869</td>\n",
       "      <td>0.07017</td>\n",
       "      <td>0.1812</td>\n",
       "      <td>...</td>\n",
       "      <td>24.99</td>\n",
       "      <td>23.41</td>\n",
       "      <td>158.80</td>\n",
       "      <td>1956.0</td>\n",
       "      <td>0.1238</td>\n",
       "      <td>0.1866</td>\n",
       "      <td>0.2416</td>\n",
       "      <td>0.1860</td>\n",
       "      <td>0.2750</td>\n",
       "      <td>0.08902</td>\n",
       "    </tr>\n",
       "    <tr>\n",
       "      <th>2</th>\n",
       "      <td>1</td>\n",
       "      <td>19.69</td>\n",
       "      <td>21.25</td>\n",
       "      <td>130.00</td>\n",
       "      <td>1203.0</td>\n",
       "      <td>0.10960</td>\n",
       "      <td>0.15990</td>\n",
       "      <td>0.1974</td>\n",
       "      <td>0.12790</td>\n",
       "      <td>0.2069</td>\n",
       "      <td>...</td>\n",
       "      <td>23.57</td>\n",
       "      <td>25.53</td>\n",
       "      <td>152.50</td>\n",
       "      <td>1709.0</td>\n",
       "      <td>0.1444</td>\n",
       "      <td>0.4245</td>\n",
       "      <td>0.4504</td>\n",
       "      <td>0.2430</td>\n",
       "      <td>0.3613</td>\n",
       "      <td>0.08758</td>\n",
       "    </tr>\n",
       "    <tr>\n",
       "      <th>3</th>\n",
       "      <td>1</td>\n",
       "      <td>11.42</td>\n",
       "      <td>20.38</td>\n",
       "      <td>77.58</td>\n",
       "      <td>386.1</td>\n",
       "      <td>0.14250</td>\n",
       "      <td>0.28390</td>\n",
       "      <td>0.2414</td>\n",
       "      <td>0.10520</td>\n",
       "      <td>0.2597</td>\n",
       "      <td>...</td>\n",
       "      <td>14.91</td>\n",
       "      <td>26.50</td>\n",
       "      <td>98.87</td>\n",
       "      <td>567.7</td>\n",
       "      <td>0.2098</td>\n",
       "      <td>0.8663</td>\n",
       "      <td>0.6869</td>\n",
       "      <td>0.2575</td>\n",
       "      <td>0.6638</td>\n",
       "      <td>0.17300</td>\n",
       "    </tr>\n",
       "    <tr>\n",
       "      <th>4</th>\n",
       "      <td>1</td>\n",
       "      <td>20.29</td>\n",
       "      <td>14.34</td>\n",
       "      <td>135.10</td>\n",
       "      <td>1297.0</td>\n",
       "      <td>0.10030</td>\n",
       "      <td>0.13280</td>\n",
       "      <td>0.1980</td>\n",
       "      <td>0.10430</td>\n",
       "      <td>0.1809</td>\n",
       "      <td>...</td>\n",
       "      <td>22.54</td>\n",
       "      <td>16.67</td>\n",
       "      <td>152.20</td>\n",
       "      <td>1575.0</td>\n",
       "      <td>0.1374</td>\n",
       "      <td>0.2050</td>\n",
       "      <td>0.4000</td>\n",
       "      <td>0.1625</td>\n",
       "      <td>0.2364</td>\n",
       "      <td>0.07678</td>\n",
       "    </tr>\n",
       "  </tbody>\n",
       "</table>\n",
       "<p>5 rows × 31 columns</p>\n",
       "</div>"
      ],
      "text/plain": [
       "   diagnosis  radius_mean  texture_mean  perimeter_mean  area_mean  \\\n",
       "0          1        17.99         10.38          122.80     1001.0   \n",
       "1          1        20.57         17.77          132.90     1326.0   \n",
       "2          1        19.69         21.25          130.00     1203.0   \n",
       "3          1        11.42         20.38           77.58      386.1   \n",
       "4          1        20.29         14.34          135.10     1297.0   \n",
       "\n",
       "   smoothness_mean  compactness_mean  concavity_mean  concave points_mean  \\\n",
       "0          0.11840           0.27760          0.3001              0.14710   \n",
       "1          0.08474           0.07864          0.0869              0.07017   \n",
       "2          0.10960           0.15990          0.1974              0.12790   \n",
       "3          0.14250           0.28390          0.2414              0.10520   \n",
       "4          0.10030           0.13280          0.1980              0.10430   \n",
       "\n",
       "   symmetry_mean  ...  radius_worst  texture_worst  perimeter_worst  \\\n",
       "0         0.2419  ...         25.38          17.33           184.60   \n",
       "1         0.1812  ...         24.99          23.41           158.80   \n",
       "2         0.2069  ...         23.57          25.53           152.50   \n",
       "3         0.2597  ...         14.91          26.50            98.87   \n",
       "4         0.1809  ...         22.54          16.67           152.20   \n",
       "\n",
       "   area_worst  smoothness_worst  compactness_worst  concavity_worst  \\\n",
       "0      2019.0            0.1622             0.6656           0.7119   \n",
       "1      1956.0            0.1238             0.1866           0.2416   \n",
       "2      1709.0            0.1444             0.4245           0.4504   \n",
       "3       567.7            0.2098             0.8663           0.6869   \n",
       "4      1575.0            0.1374             0.2050           0.4000   \n",
       "\n",
       "   concave points_worst  symmetry_worst  fractal_dimension_worst  \n",
       "0                0.2654          0.4601                  0.11890  \n",
       "1                0.1860          0.2750                  0.08902  \n",
       "2                0.2430          0.3613                  0.08758  \n",
       "3                0.2575          0.6638                  0.17300  \n",
       "4                0.1625          0.2364                  0.07678  \n",
       "\n",
       "[5 rows x 31 columns]"
      ]
     },
     "execution_count": 18,
     "metadata": {},
     "output_type": "execute_result"
    }
   ],
   "source": [
    "df3.head()"
   ]
  },
  {
   "cell_type": "code",
   "execution_count": 19,
   "id": "302349ad",
   "metadata": {
    "tags": []
   },
   "outputs": [],
   "source": [
    "X = df3.drop('diagnosis', axis = 1)\n",
    "y = df3['diagnosis']"
   ]
  },
  {
   "cell_type": "code",
   "execution_count": 20,
   "id": "d24380d8",
   "metadata": {
    "tags": []
   },
   "outputs": [
    {
     "data": {
      "text/plain": [
       "(569, 30)"
      ]
     },
     "execution_count": 20,
     "metadata": {},
     "output_type": "execute_result"
    }
   ],
   "source": [
    "X.shape"
   ]
  },
  {
   "cell_type": "code",
   "execution_count": 21,
   "id": "520f4948",
   "metadata": {
    "tags": []
   },
   "outputs": [],
   "source": [
    "X_train, X_test, y_train, y_test = train_test_split(X, y, test_size = 0.3)"
   ]
  },
  {
   "cell_type": "code",
   "execution_count": 22,
   "id": "8318b1ba",
   "metadata": {
    "tags": []
   },
   "outputs": [
    {
     "data": {
      "text/plain": [
       "((398, 30), (171, 30))"
      ]
     },
     "execution_count": 22,
     "metadata": {},
     "output_type": "execute_result"
    }
   ],
   "source": [
    "X_train.shape, X_test.shape"
   ]
  },
  {
   "cell_type": "markdown",
   "id": "0baa2865",
   "metadata": {},
   "source": [
    "# Basic check - all models"
   ]
  },
  {
   "cell_type": "code",
   "execution_count": 23,
   "id": "5e6f3ae1",
   "metadata": {
    "tags": []
   },
   "outputs": [],
   "source": [
    "models = [('CART', DecisionTreeClassifier()), ('SVM', SVC()), ('Naive Bayes', GaussianNB()), ('KNN', KNeighborsClassifier())]"
   ]
  },
  {
   "cell_type": "code",
   "execution_count": 24,
   "id": "6dca87d5",
   "metadata": {
    "scrolled": true,
    "tags": []
   },
   "outputs": [
    {
     "name": "stdout",
     "output_type": "stream",
     "text": [
      "CART: accuracy => 0.93712 (run_time =>  0.24230)\n",
      "SVM: accuracy => 0.91455 (run_time =>  0.19669)\n",
      "Naive Bayes: accuracy => 0.93724 (run_time =>  0.09150)\n",
      "KNN: accuracy => 0.93968 (run_time =>  0.50105)\n"
     ]
    }
   ],
   "source": [
    "all_scores =[]\n",
    "model_names = []\n",
    "\n",
    "for name, model in models:\n",
    "    kfold = KFold(n_splits = 10)\n",
    "    start = time.time()\n",
    "    cv_scores = cross_val_score(model, X_train, y_train, cv = kfold, scoring = 'accuracy')\n",
    "    end = time.time()\n",
    "    all_scores.append(cv_scores)\n",
    "    model_names.append(name)\n",
    "    print(f'{name}: accuracy => {cv_scores.mean():.5f} (run_time => {end - start : 0.5f})')"
   ]
  },
  {
   "cell_type": "code",
   "execution_count": 25,
   "id": "bd0f3ec8",
   "metadata": {
    "tags": []
   },
   "outputs": [
    {
     "data": {
      "image/png": "[encoded data removed]",
      "text/plain": [
       "<Figure size 640x480 with 1 Axes>"
      ]
     },
     "metadata": {},
     "output_type": "display_data"
    }
   ],
   "source": [
    "fig = plt.figure()\n",
    "ax = fig.add_subplot(111)\n",
    "plt.boxplot(all_scores)\n",
    "fig.suptitle('Models Performance Comparison')\n",
    "ax.set_xticklabels(model_names)\n",
    "plt.show()"
   ]
  },
  {
   "cell_type": "markdown",
   "id": "8f529051",
   "metadata": {},
   "source": [
    "On initial run, all models seem to have same performace with no significant difference"
   ]
  },
  {
   "cell_type": "markdown",
   "id": "91974030",
   "metadata": {},
   "source": [
    "# Applying models on standardised data"
   ]
  },
  {
   "cell_type": "code",
   "execution_count": 26,
   "id": "ae7f809e",
   "metadata": {
    "tags": []
   },
   "outputs": [],
   "source": [
    "pipelines = [('ScaledCART', Pipeline([('Scaler', StandardScaler()), ('CART', DecisionTreeClassifier())])),\\\n",
    "            ('ScaledSVM', Pipeline([('Scaler', StandardScaler()), ('SVM', SVC())])),\\\n",
    "             ('ScaledNaiveBayes', Pipeline([('Scaler', StandardScaler()), ('NaiveBayes', GaussianNB())])),\\\n",
    "             ('ScaledKNN', Pipeline([('Scaler', StandardScaler()), ('KNN', KNeighborsClassifier())]))\n",
    "            ]"
   ]
  },
  {
   "cell_type": "code",
   "execution_count": 27,
   "id": "89b91923",
   "metadata": {
    "tags": []
   },
   "outputs": [
    {
     "name": "stdout",
     "output_type": "stream",
     "text": [
      "ScaledCART accuracy: 0.93724 (runtime:  0.20918)\n",
      "ScaledSVM accuracy: 0.96968 (runtime:  0.21088)\n",
      "ScaledNaiveBayes accuracy: 0.93224 (runtime:  0.13378)\n",
      "ScaledKNN accuracy: 0.95462 (runtime:  0.30200)\n"
     ]
    }
   ],
   "source": [
    "all_scores = []\n",
    "models_names = []\n",
    "\n",
    "for name, model in pipelines:\n",
    "    kfold = KFold(n_splits = 10)\n",
    "    start = time.time()\n",
    "    cv_scores = cross_val_score(model, X_train, y_train, cv = kfold, scoring = 'accuracy')\n",
    "    end = time.time()\n",
    "    all_scores.append(cv_scores)\n",
    "    models_names.append(name)\n",
    "    print(f'{name} accuracy: {cv_scores.mean():.5f} (runtime: {end - start: .5f})')"
   ]
  },
  {
   "cell_type": "code",
   "execution_count": 28,
   "id": "15f83b82",
   "metadata": {
    "tags": []
   },
   "outputs": [
    {
     "data": {
      "image/png": "[encoded data removed]",
      "text/plain": [
       "<Figure size 640x480 with 1 Axes>"
      ]
     },
     "metadata": {},
     "output_type": "display_data"
    }
   ],
   "source": [
    "fig = plt.figure()\n",
    "ax = fig.add_subplot(111)\n",
    "plt.boxplot(all_scores)\n",
    "fig.suptitle('Model Performace Comparison (scaled data)')\n",
    "ax.set_xticklabels(models_names)\n",
    "plt.show()"
   ]
  },
  {
   "cell_type": "markdown",
   "id": "320d362a",
   "metadata": {},
   "source": [
    "With scaled data, perfomance of all data have improved significantly\n",
    "\n",
    "SVM appears best among all models for the given data set"
   ]
  },
  {
   "cell_type": "markdown",
   "id": "192aa94d",
   "metadata": {},
   "source": [
    "# Parameter Tuning - SVM Algorithm"
   ]
  },
  {
   "cell_type": "markdown",
   "id": "9844d074",
   "metadata": {},
   "source": [
    "Data to be standardised\n",
    "\n",
    "SVM algorithm has 2 parameters to tune: C values and Kernel functions\n",
    "\n",
    "C Values = \\[0.1, 0.3, 0.5, 0.7, 1.0, 1.3, 1.5, 1.7, 2.0\\]\n",
    "\n",
    "Kernel functions = \\['linear', 'poly', 'rbf', 'sigmoid'\\]"
   ]
  },
  {
   "cell_type": "code",
   "execution_count": 29,
   "id": "80e38fda",
   "metadata": {
    "tags": []
   },
   "outputs": [],
   "source": [
    "scale = StandardScaler()\n",
    "X_scaled = scale.fit_transform(X_train)\n",
    "\n",
    "C_values = [0.1, 0.3, 0.5, 0.7, 1.0, 1.3, 1.5, 1.7, 2.0]\n",
    "Kernel_functions = ['linear', 'poly', 'rbf', 'sigmoid']\n",
    "param_grid = dict(C = C_values, kernel = Kernel_functions)\n",
    "\n",
    "model = SVC()\n",
    "kfold = KFold(n_splits = 10)\n",
    "\n",
    "grid = GridSearchCV(estimator = model, param_grid = param_grid, cv = kfold, scoring = 'accuracy')\n",
    "grid_result = grid.fit(X_scaled, y_train)\n"
   ]
  },
  {
   "cell_type": "code",
   "execution_count": 30,
   "id": "b48274f6",
   "metadata": {
    "scrolled": true,
    "tags": []
   },
   "outputs": [
    {
     "data": {
      "text/plain": [
       "{'mean_fit_time': array([0.00402191, 0.00910637, 0.01031923, 0.00923328, 0.00461354,\n",
       "        0.00722804, 0.00932741, 0.00747609, 0.00547903, 0.00780044,\n",
       "        0.00823071, 0.00695863, 0.00511153, 0.0071017 , 0.00759871,\n",
       "        0.00634978, 0.00568829, 0.00680995, 0.00696158, 0.00562766,\n",
       "        0.00588279, 0.00700169, 0.00724921, 0.00552328, 0.00587506,\n",
       "        0.00665896, 0.0069031 , 0.00539305, 0.00624936, 0.00650747,\n",
       "        0.00737796, 0.00500414, 0.00672572, 0.00665843, 0.00690722,\n",
       "        0.00524766]),\n",
       " 'std_fit_time': array([0.00052436, 0.00081585, 0.00146731, 0.0012794 , 0.00043737,\n",
       "        0.00064554, 0.00193777, 0.00086382, 0.00056654, 0.00065804,\n",
       "        0.00073178, 0.00141214, 0.00046924, 0.00052779, 0.00128527,\n",
       "        0.00063495, 0.00070823, 0.00048642, 0.0002472 , 0.00062422,\n",
       "        0.00094094, 0.00063169, 0.00080576, 0.00065804, 0.00104404,\n",
       "        0.00044924, 0.00030238, 0.00048776, 0.00062716, 0.00053542,\n",
       "        0.00050076, 0.00077031, 0.00110005, 0.00056699, 0.00073558,\n",
       "        0.00038204]),\n",
       " 'mean_score_time': array([0.0011703 , 0.00187516, 0.00326104, 0.0020329 , 0.00075476,\n",
       "        0.0012063 , 0.00302026, 0.00141864, 0.00109825, 0.00142572,\n",
       "        0.00234532, 0.00169971, 0.0010119 , 0.00121014, 0.00211446,\n",
       "        0.00142214, 0.00123575, 0.00136483, 0.00218601, 0.00160677,\n",
       "        0.00090632, 0.00121713, 0.00246105, 0.00130551, 0.00093882,\n",
       "        0.00132139, 0.00200188, 0.00130656, 0.00120299, 0.00152261,\n",
       "        0.00215571, 0.00090401, 0.00101745, 0.00145867, 0.00210955,\n",
       "        0.0012922 ]),\n",
       " 'std_score_time': array([5.61013145e-04, 6.62845972e-04, 5.89644593e-04, 8.82572768e-05,\n",
       "        4.05443956e-04, 6.01204452e-04, 6.31763938e-04, 5.12627255e-04,\n",
       "        2.64797214e-04, 4.88955777e-04, 5.95463134e-04, 7.01950039e-04,\n",
       "        4.45349885e-04, 3.98496454e-04, 5.32225143e-04, 4.82143883e-04,\n",
       "        3.91727725e-04, 6.64803830e-04, 3.98042011e-04, 4.87321044e-04,\n",
       "        3.02945106e-04, 4.18004629e-04, 4.66827891e-04, 4.58418880e-04,\n",
       "        3.18407634e-04, 4.82436411e-04, 3.74939653e-05, 4.55758257e-04,\n",
       "        3.97354945e-04, 4.99385275e-04, 3.11696255e-04, 3.01417308e-04,\n",
       "        4.08231418e-04, 5.26347204e-04, 7.10533995e-04, 4.65200722e-04]),\n",
       " 'param_C': masked_array(data=[0.1, 0.1, 0.1, 0.1, 0.3, 0.3, 0.3, 0.3, 0.5, 0.5, 0.5,\n",
       "                    0.5, 0.7, 0.7, 0.7, 0.7, 1.0, 1.0, 1.0, 1.0, 1.3, 1.3,\n",
       "                    1.3, 1.3, 1.5, 1.5, 1.5, 1.5, 1.7, 1.7, 1.7, 1.7, 2.0,\n",
       "                    2.0, 2.0, 2.0],\n",
       "              mask=[False, False, False, False, False, False, False, False,\n",
       "                    False, False, False, False, False, False, False, False,\n",
       "                    False, False, False, False, False, False, False, False,\n",
       "                    False, False, False, False, False, False, False, False,\n",
       "                    False, False, False, False],\n",
       "        fill_value='?',\n",
       "             dtype=object),\n",
       " 'param_kernel': masked_array(data=['linear', 'poly', 'rbf', 'sigmoid', 'linear', 'poly',\n",
       "                    'rbf', 'sigmoid', 'linear', 'poly', 'rbf', 'sigmoid',\n",
       "                    'linear', 'poly', 'rbf', 'sigmoid', 'linear', 'poly',\n",
       "                    'rbf', 'sigmoid', 'linear', 'poly', 'rbf', 'sigmoid',\n",
       "                    'linear', 'poly', 'rbf', 'sigmoid', 'linear', 'poly',\n",
       "                    'rbf', 'sigmoid', 'linear', 'poly', 'rbf', 'sigmoid'],\n",
       "              mask=[False, False, False, False, False, False, False, False,\n",
       "                    False, False, False, False, False, False, False, False,\n",
       "                    False, False, False, False, False, False, False, False,\n",
       "                    False, False, False, False, False, False, False, False,\n",
       "                    False, False, False, False],\n",
       "        fill_value='?',\n",
       "             dtype=object),\n",
       " 'params': [{'C': 0.1, 'kernel': 'linear'},\n",
       "  {'C': 0.1, 'kernel': 'poly'},\n",
       "  {'C': 0.1, 'kernel': 'rbf'},\n",
       "  {'C': 0.1, 'kernel': 'sigmoid'},\n",
       "  {'C': 0.3, 'kernel': 'linear'},\n",
       "  {'C': 0.3, 'kernel': 'poly'},\n",
       "  {'C': 0.3, 'kernel': 'rbf'},\n",
       "  {'C': 0.3, 'kernel': 'sigmoid'},\n",
       "  {'C': 0.5, 'kernel': 'linear'},\n",
       "  {'C': 0.5, 'kernel': 'poly'},\n",
       "  {'C': 0.5, 'kernel': 'rbf'},\n",
       "  {'C': 0.5, 'kernel': 'sigmoid'},\n",
       "  {'C': 0.7, 'kernel': 'linear'},\n",
       "  {'C': 0.7, 'kernel': 'poly'},\n",
       "  {'C': 0.7, 'kernel': 'rbf'},\n",
       "  {'C': 0.7, 'kernel': 'sigmoid'},\n",
       "  {'C': 1.0, 'kernel': 'linear'},\n",
       "  {'C': 1.0, 'kernel': 'poly'},\n",
       "  {'C': 1.0, 'kernel': 'rbf'},\n",
       "  {'C': 1.0, 'kernel': 'sigmoid'},\n",
       "  {'C': 1.3, 'kernel': 'linear'},\n",
       "  {'C': 1.3, 'kernel': 'poly'},\n",
       "  {'C': 1.3, 'kernel': 'rbf'},\n",
       "  {'C': 1.3, 'kernel': 'sigmoid'},\n",
       "  {'C': 1.5, 'kernel': 'linear'},\n",
       "  {'C': 1.5, 'kernel': 'poly'},\n",
       "  {'C': 1.5, 'kernel': 'rbf'},\n",
       "  {'C': 1.5, 'kernel': 'sigmoid'},\n",
       "  {'C': 1.7, 'kernel': 'linear'},\n",
       "  {'C': 1.7, 'kernel': 'poly'},\n",
       "  {'C': 1.7, 'kernel': 'rbf'},\n",
       "  {'C': 1.7, 'kernel': 'sigmoid'},\n",
       "  {'C': 2.0, 'kernel': 'linear'},\n",
       "  {'C': 2.0, 'kernel': 'poly'},\n",
       "  {'C': 2.0, 'kernel': 'rbf'},\n",
       "  {'C': 2.0, 'kernel': 'sigmoid'}],\n",
       " 'split0_test_score': array([0.975, 0.825, 0.925, 1.   , 0.975, 0.85 , 0.925, 1.   , 0.975,\n",
       "        0.9  , 0.95 , 1.   , 0.975, 0.95 , 0.95 , 0.975, 0.975, 0.95 ,\n",
       "        0.95 , 1.   , 0.975, 0.95 , 0.95 , 0.975, 0.95 , 0.95 , 0.95 ,\n",
       "        0.975, 0.95 , 0.95 , 0.95 , 0.975, 0.95 , 0.95 , 0.95 , 0.975]),\n",
       " 'split1_test_score': array([0.95 , 0.825, 0.975, 0.95 , 0.95 , 0.9  , 0.975, 0.975, 0.95 ,\n",
       "        0.9  , 0.975, 0.975, 0.95 , 0.9  , 0.975, 0.95 , 0.95 , 0.925,\n",
       "        0.975, 0.95 , 0.95 , 0.925, 0.95 , 0.95 , 0.95 , 0.925, 0.95 ,\n",
       "        0.95 , 0.95 , 0.925, 0.95 , 0.95 , 0.95 , 0.925, 0.95 , 0.95 ]),\n",
       " 'split2_test_score': array([0.975, 0.8  , 0.875, 0.875, 0.975, 0.825, 0.95 , 0.925, 0.975,\n",
       "        0.825, 0.95 , 0.95 , 0.975, 0.825, 0.95 , 0.925, 1.   , 0.825,\n",
       "        0.975, 0.9  , 1.   , 0.825, 0.975, 0.925, 1.   , 0.825, 0.975,\n",
       "        0.925, 0.975, 0.825, 0.975, 0.925, 0.95 , 0.825, 0.975, 0.95 ]),\n",
       " 'split3_test_score': array([1.   , 0.875, 0.975, 0.975, 1.   , 0.875, 1.   , 1.   , 1.   ,\n",
       "        0.9  , 1.   , 1.   , 1.   , 0.9  , 1.   , 1.   , 1.   , 0.95 ,\n",
       "        1.   , 1.   , 1.   , 0.975, 1.   , 1.   , 1.   , 1.   , 1.   ,\n",
       "        1.   , 1.   , 1.   , 1.   , 1.   , 1.   , 1.   , 1.   , 1.   ]),\n",
       " 'split4_test_score': array([0.975, 0.825, 0.9  , 0.875, 0.975, 0.85 , 0.925, 0.925, 0.975,\n",
       "        0.85 , 0.975, 0.925, 0.975, 0.85 , 0.975, 0.9  , 0.975, 0.85 ,\n",
       "        0.975, 0.9  , 0.975, 0.85 , 1.   , 0.9  , 0.975, 0.85 , 1.   ,\n",
       "        0.9  , 0.975, 0.85 , 1.   , 0.9  , 0.95 , 0.9  , 1.   , 0.9  ]),\n",
       " 'split5_test_score': array([1.   , 0.85 , 0.975, 0.975, 1.   , 0.875, 0.975, 0.975, 1.   ,\n",
       "        0.875, 0.975, 1.   , 1.   , 0.875, 0.975, 1.   , 1.   , 0.875,\n",
       "        0.975, 1.   , 1.   , 0.875, 0.975, 0.975, 1.   , 0.875, 1.   ,\n",
       "        0.975, 1.   , 0.9  , 1.   , 0.975, 1.   , 0.9  , 1.   , 0.975]),\n",
       " 'split6_test_score': array([1.   , 0.875, 1.   , 1.   , 0.975, 0.925, 1.   , 1.   , 0.975,\n",
       "        0.95 , 1.   , 1.   , 0.975, 1.   , 1.   , 1.   , 0.975, 1.   ,\n",
       "        1.   , 0.975, 0.975, 1.   , 1.   , 0.975, 0.975, 1.   , 1.   ,\n",
       "        0.975, 0.975, 1.   , 1.   , 0.975, 0.975, 1.   , 0.975, 0.975]),\n",
       " 'split7_test_score': array([0.975, 0.8  , 0.9  , 0.925, 0.95 , 0.8  , 0.9  , 0.95 , 0.975,\n",
       "        0.8  , 0.925, 0.95 , 0.975, 0.8  , 0.975, 0.95 , 0.975, 0.825,\n",
       "        0.975, 0.975, 0.975, 0.85 , 0.975, 0.975, 0.975, 0.85 , 0.975,\n",
       "        0.975, 0.975, 0.85 , 0.95 , 0.975, 0.975, 0.875, 0.95 , 0.975]),\n",
       " 'split8_test_score': array([0.8974359 , 0.82051282, 0.92307692, 0.8974359 , 0.92307692,\n",
       "        0.82051282, 0.8974359 , 0.92307692, 0.92307692, 0.84615385,\n",
       "        0.92307692, 0.92307692, 0.92307692, 0.84615385, 0.92307692,\n",
       "        0.92307692, 0.92307692, 0.84615385, 0.8974359 , 0.94871795,\n",
       "        0.92307692, 0.87179487, 0.8974359 , 0.94871795, 0.92307692,\n",
       "        0.87179487, 0.92307692, 0.94871795, 0.92307692, 0.87179487,\n",
       "        0.92307692, 0.94871795, 0.92307692, 0.87179487, 0.92307692,\n",
       "        0.94871795]),\n",
       " 'split9_test_score': array([0.97435897, 0.76923077, 0.92307692, 0.92307692, 0.97435897,\n",
       "        0.79487179, 0.97435897, 0.97435897, 0.97435897, 0.79487179,\n",
       "        0.97435897, 0.94871795, 0.97435897, 0.79487179, 0.97435897,\n",
       "        0.94871795, 0.97435897, 0.82051282, 0.97435897, 0.94871795,\n",
       "        0.97435897, 0.84615385, 0.97435897, 0.94871795, 0.97435897,\n",
       "        0.84615385, 0.97435897, 0.94871795, 0.97435897, 0.87179487,\n",
       "        0.97435897, 0.94871795, 0.97435897, 0.87179487, 0.97435897,\n",
       "        0.94871795]),\n",
       " 'mean_test_score': array([0.97217949, 0.82647436, 0.93711538, 0.93955128, 0.96974359,\n",
       "        0.85153846, 0.95217949, 0.96474359, 0.97224359, 0.86410256,\n",
       "        0.96474359, 0.96717949, 0.97224359, 0.87410256, 0.96974359,\n",
       "        0.95717949, 0.97474359, 0.88666667, 0.96967949, 0.95974359,\n",
       "        0.97474359, 0.89679487, 0.96967949, 0.95724359, 0.97224359,\n",
       "        0.89929487, 0.97474359, 0.95724359, 0.96974359, 0.90435897,\n",
       "        0.97224359, 0.95724359, 0.96474359, 0.91185897, 0.96974359,\n",
       "        0.95974359]),\n",
       " 'std_test_score': array([0.0290466 , 0.03159684, 0.03926139, 0.0453002 , 0.02218134,\n",
       "        0.04047832, 0.03648129, 0.03023984, 0.02120245, 0.04723885,\n",
       "        0.02577688, 0.03004188, 0.02120245, 0.062044  , 0.02218134,\n",
       "        0.03385417, 0.02279421, 0.06118811, 0.02758355, 0.03578255,\n",
       "        0.02279421, 0.05795879, 0.02976327, 0.02757461, 0.02396965,\n",
       "        0.06169681, 0.0253885 , 0.02757461, 0.02218134, 0.05928832,\n",
       "        0.02644889, 0.02757461, 0.02322601, 0.05436884, 0.02483972,\n",
       "        0.02560061]),\n",
       " 'rank_test_score': array([ 8, 36, 27, 26,  9, 35, 25, 16,  4, 34, 16, 15,  4, 33,  9, 24,  1,\n",
       "        32, 13, 19,  1, 31, 13, 21,  4, 30,  1, 21,  9, 29,  4, 21, 16, 28,\n",
       "         9, 19])}"
      ]
     },
     "execution_count": 30,
     "metadata": {},
     "output_type": "execute_result"
    }
   ],
   "source": [
    "grid_result.cv_results_"
   ]
  },
  {
   "cell_type": "code",
   "execution_count": 31,
   "id": "005db6ed",
   "metadata": {
    "tags": []
   },
   "outputs": [
    {
     "name": "stdout",
     "output_type": "stream",
     "text": [
      "mean: 0.97218 (std: 0.02905) with params: {'C': 0.1, 'kernel': 'linear'}\n",
      "mean: 0.82647 (std: 0.03160) with params: {'C': 0.1, 'kernel': 'poly'}\n",
      "mean: 0.93712 (std: 0.03926) with params: {'C': 0.1, 'kernel': 'rbf'}\n",
      "mean: 0.93955 (std: 0.04530) with params: {'C': 0.1, 'kernel': 'sigmoid'}\n",
      "mean: 0.96974 (std: 0.02218) with params: {'C': 0.3, 'kernel': 'linear'}\n",
      "mean: 0.85154 (std: 0.04048) with params: {'C': 0.3, 'kernel': 'poly'}\n",
      "mean: 0.95218 (std: 0.03648) with params: {'C': 0.3, 'kernel': 'rbf'}\n",
      "mean: 0.96474 (std: 0.03024) with params: {'C': 0.3, 'kernel': 'sigmoid'}\n",
      "mean: 0.97224 (std: 0.02120) with params: {'C': 0.5, 'kernel': 'linear'}\n",
      "mean: 0.86410 (std: 0.04724) with params: {'C': 0.5, 'kernel': 'poly'}\n",
      "mean: 0.96474 (std: 0.02578) with params: {'C': 0.5, 'kernel': 'rbf'}\n",
      "mean: 0.96718 (std: 0.03004) with params: {'C': 0.5, 'kernel': 'sigmoid'}\n",
      "mean: 0.97224 (std: 0.02120) with params: {'C': 0.7, 'kernel': 'linear'}\n",
      "mean: 0.87410 (std: 0.06204) with params: {'C': 0.7, 'kernel': 'poly'}\n",
      "mean: 0.96974 (std: 0.02218) with params: {'C': 0.7, 'kernel': 'rbf'}\n",
      "mean: 0.95718 (std: 0.03385) with params: {'C': 0.7, 'kernel': 'sigmoid'}\n",
      "mean: 0.97474 (std: 0.02279) with params: {'C': 1.0, 'kernel': 'linear'}\n",
      "mean: 0.88667 (std: 0.06119) with params: {'C': 1.0, 'kernel': 'poly'}\n",
      "mean: 0.96968 (std: 0.02758) with params: {'C': 1.0, 'kernel': 'rbf'}\n",
      "mean: 0.95974 (std: 0.03578) with params: {'C': 1.0, 'kernel': 'sigmoid'}\n",
      "mean: 0.97474 (std: 0.02279) with params: {'C': 1.3, 'kernel': 'linear'}\n",
      "mean: 0.89679 (std: 0.05796) with params: {'C': 1.3, 'kernel': 'poly'}\n",
      "mean: 0.96968 (std: 0.02976) with params: {'C': 1.3, 'kernel': 'rbf'}\n",
      "mean: 0.95724 (std: 0.02757) with params: {'C': 1.3, 'kernel': 'sigmoid'}\n",
      "mean: 0.97224 (std: 0.02397) with params: {'C': 1.5, 'kernel': 'linear'}\n",
      "mean: 0.89929 (std: 0.06170) with params: {'C': 1.5, 'kernel': 'poly'}\n",
      "mean: 0.97474 (std: 0.02539) with params: {'C': 1.5, 'kernel': 'rbf'}\n",
      "mean: 0.95724 (std: 0.02757) with params: {'C': 1.5, 'kernel': 'sigmoid'}\n",
      "mean: 0.96974 (std: 0.02218) with params: {'C': 1.7, 'kernel': 'linear'}\n",
      "mean: 0.90436 (std: 0.05929) with params: {'C': 1.7, 'kernel': 'poly'}\n",
      "mean: 0.97224 (std: 0.02645) with params: {'C': 1.7, 'kernel': 'rbf'}\n",
      "mean: 0.95724 (std: 0.02757) with params: {'C': 1.7, 'kernel': 'sigmoid'}\n",
      "mean: 0.96474 (std: 0.02323) with params: {'C': 2.0, 'kernel': 'linear'}\n",
      "mean: 0.91186 (std: 0.05437) with params: {'C': 2.0, 'kernel': 'poly'}\n",
      "mean: 0.96974 (std: 0.02484) with params: {'C': 2.0, 'kernel': 'rbf'}\n",
      "mean: 0.95974 (std: 0.02560) with params: {'C': 2.0, 'kernel': 'sigmoid'}\n"
     ]
    }
   ],
   "source": [
    "means = grid_result.cv_results_['mean_test_score']\n",
    "stds = grid_result.cv_results_['std_test_score']\n",
    "params = grid_result.cv_results_['params']\n",
    "\n",
    "for mean, std, params in zip(means, stds, params):\n",
    "    print(f'mean: {mean:.5f} (std: {std:.5f}) with params: {params}')"
   ]
  },
  {
   "cell_type": "code",
   "execution_count": 32,
   "id": "5db042ef",
   "metadata": {
    "scrolled": true,
    "tags": []
   },
   "outputs": [
    {
     "name": "stdout",
     "output_type": "stream",
     "text": [
      "Best score: 0.9747435897435898, \n",
      "Best Parameters: {'C': 1.0, 'kernel': 'linear'}\n"
     ]
    }
   ],
   "source": [
    "print(f'Best score: {grid_result.best_score_}, \\nBest Parameters: {grid_result.best_params_}')"
   ]
  },
  {
   "cell_type": "markdown",
   "id": "6ce78758",
   "metadata": {},
   "source": [
    "# Fitting best params on dataset"
   ]
  },
  {
   "cell_type": "code",
   "execution_count": 33,
   "id": "e18b6eb9",
   "metadata": {
    "tags": []
   },
   "outputs": [
    {
     "name": "stdout",
     "output_type": "stream",
     "text": [
      "runtime: 0.00529\n"
     ]
    }
   ],
   "source": [
    "model = SVC(C = 1.5, kernel= 'linear')\n",
    "start = time.time()\n",
    "model.fit(X_scaled, y_train)\n",
    "end = time.time()\n",
    "\n",
    "print(f'runtime: {end-start:.5f}')"
   ]
  },
  {
   "cell_type": "code",
   "execution_count": 34,
   "id": "07dfcbf4",
   "metadata": {
    "tags": []
   },
   "outputs": [],
   "source": [
    "scaler = StandardScaler().fit(X_train)\n",
    "\n",
    "X_test_scaled = scaler.transform(X_test)\n",
    "y_pred = model.predict(X_test_scaled)"
   ]
  },
  {
   "cell_type": "code",
   "execution_count": 35,
   "id": "e414ccf4",
   "metadata": {
    "tags": []
   },
   "outputs": [
    {
     "name": "stdout",
     "output_type": "stream",
     "text": [
      "Accuracy score is 0.9824561403508771\n"
     ]
    }
   ],
   "source": [
    "print(f'Accuracy score is {accuracy_score(y_test, y_pred)}')"
   ]
  },
  {
   "cell_type": "code",
   "execution_count": 36,
   "id": "eb339d83",
   "metadata": {
    "tags": []
   },
   "outputs": [
    {
     "name": "stdout",
     "output_type": "stream",
     "text": [
      "              precision    recall  f1-score   support\n",
      "\n",
      "           0       0.99      0.98      0.99       106\n",
      "           1       0.97      0.98      0.98        65\n",
      "\n",
      "    accuracy                           0.98       171\n",
      "   macro avg       0.98      0.98      0.98       171\n",
      "weighted avg       0.98      0.98      0.98       171\n",
      "\n"
     ]
    }
   ],
   "source": [
    "print(classification_report(y_test, y_pred))"
   ]
  },
  {
   "cell_type": "code",
   "execution_count": 37,
   "id": "2c719411",
   "metadata": {
    "tags": []
   },
   "outputs": [
    {
     "name": "stdout",
     "output_type": "stream",
     "text": [
      "[[104   2]\n",
      " [  1  64]]\n"
     ]
    }
   ],
   "source": [
    "print(confusion_matrix(y_test, y_pred))"
   ]
  }
 ],
 "metadata": {
  "kernelspec": {
   "display_name": "Python 3 (ipykernel)",
   "language": "python",
   "name": "python3"
  },
  "language_info": {
   "codemirror_mode": {
    "name": "ipython",
    "version": 3
   },
   "file_extension": ".py",
   "mimetype": "text/x-python",
   "name": "python",
   "nbconvert_exporter": "python",
   "pygments_lexer": "ipython3",
   "version": "3.10.9"
  }
 },
 "nbformat": 4,
 "nbformat_minor": 5
}
